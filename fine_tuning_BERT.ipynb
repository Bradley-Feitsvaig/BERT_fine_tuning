{
  "nbformat": 4,
  "nbformat_minor": 0,
  "metadata": {
    "colab": {
      "name": "fine_tuning_BERT.ipynb",
      "provenance": [],
      "collapsed_sections": []
    },
    "kernelspec": {
      "name": "python3",
      "display_name": "Python 3"
    },
    "language_info": {
      "name": "python"
    },
    "accelerator": "GPU",
    "gpuClass": "standard"
  },
  "cells": [
    {
      "cell_type": "markdown",
      "source": [
        "## BERT Fine-tuning\n",
        "\n",
        "BERT (Bidirectional Encoder Representations from Transformers) provides dense vector representations for natural language by using a deep, pre-trained neural network with the Transformer architecture. It was originally published by\n",
        "\n",
        "Jacob Devlin, Ming-Wei Chang, Kenton Lee, Kristina Toutanova: [\"BERT: Pre-training of Deep Bidirectional Transformers for Language Understanding\"](https://arxiv.org/abs/1810.04805), 2018.\n",
        "\n",
        "\n",
        "Note: This notebook should be run using a GPU. In Colab, choose Runtime -> Change runtime type and select GPU.\n",
        "\n",
        "\n",
        "![BERT-min.jpg](data:image/jpeg;base64,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)\n"
      ],
      "metadata": {
        "id": "GLH2MsE8-dck"
      }
    },
    {
      "cell_type": "markdown",
      "source": [
        "## Setup\n"
      ],
      "metadata": {
        "id": "f_wo3ZWD_YAz"
      }
    },
    {
      "cell_type": "code",
      "execution_count": 1,
      "metadata": {
        "colab": {
          "base_uri": "https://localhost:8080/"
        },
        "id": "ZkuPwKUCPb0D",
        "outputId": "4a20a211-08f9-4b7b-b38f-1186c9758146"
      },
      "outputs": [
        {
          "output_type": "stream",
          "name": "stdout",
          "text": [
            "Looking in indexes: https://pypi.org/simple, https://us-python.pkg.dev/colab-wheels/public/simple/\n",
            "Requirement already satisfied: tfds-nightly in /usr/local/lib/python3.7/dist-packages (4.6.0.dev202207190046)\n",
            "Requirement already satisfied: tqdm in /usr/local/lib/python3.7/dist-packages (from tfds-nightly) (4.64.0)\n",
            "Requirement already satisfied: tensorflow-metadata in /usr/local/lib/python3.7/dist-packages (from tfds-nightly) (1.9.0)\n",
            "Requirement already satisfied: protobuf>=3.12.2 in /usr/local/lib/python3.7/dist-packages (from tfds-nightly) (3.17.3)\n",
            "Requirement already satisfied: toml in /usr/local/lib/python3.7/dist-packages (from tfds-nightly) (0.10.2)\n",
            "Requirement already satisfied: importlib-resources in /usr/local/lib/python3.7/dist-packages (from tfds-nightly) (5.8.0)\n",
            "Requirement already satisfied: etils[epath] in /usr/local/lib/python3.7/dist-packages (from tfds-nightly) (0.6.0)\n",
            "Requirement already satisfied: termcolor in /usr/local/lib/python3.7/dist-packages (from tfds-nightly) (1.1.0)\n",
            "Requirement already satisfied: dill in /usr/local/lib/python3.7/dist-packages (from tfds-nightly) (0.3.5.1)\n",
            "Requirement already satisfied: typing-extensions in /usr/local/lib/python3.7/dist-packages (from tfds-nightly) (4.1.1)\n",
            "Requirement already satisfied: six in /usr/local/lib/python3.7/dist-packages (from tfds-nightly) (1.15.0)\n",
            "Requirement already satisfied: promise in /usr/local/lib/python3.7/dist-packages (from tfds-nightly) (2.3)\n",
            "Requirement already satisfied: absl-py in /usr/local/lib/python3.7/dist-packages (from tfds-nightly) (1.1.0)\n",
            "Requirement already satisfied: requests>=2.19.0 in /usr/local/lib/python3.7/dist-packages (from tfds-nightly) (2.23.0)\n",
            "Requirement already satisfied: numpy in /usr/local/lib/python3.7/dist-packages (from tfds-nightly) (1.21.6)\n",
            "Requirement already satisfied: idna<3,>=2.5 in /usr/local/lib/python3.7/dist-packages (from requests>=2.19.0->tfds-nightly) (2.10)\n",
            "Requirement already satisfied: chardet<4,>=3.0.2 in /usr/local/lib/python3.7/dist-packages (from requests>=2.19.0->tfds-nightly) (3.0.4)\n",
            "Requirement already satisfied: urllib3!=1.25.0,!=1.25.1,<1.26,>=1.21.1 in /usr/local/lib/python3.7/dist-packages (from requests>=2.19.0->tfds-nightly) (1.24.3)\n",
            "Requirement already satisfied: certifi>=2017.4.17 in /usr/local/lib/python3.7/dist-packages (from requests>=2.19.0->tfds-nightly) (2022.6.15)\n",
            "Requirement already satisfied: zipp in /usr/local/lib/python3.7/dist-packages (from etils[epath]->tfds-nightly) (3.8.0)\n",
            "Requirement already satisfied: googleapis-common-protos<2,>=1.52.0 in /usr/local/lib/python3.7/dist-packages (from tensorflow-metadata->tfds-nightly) (1.56.3)\n"
          ]
        }
      ],
      "source": [
        "!pip install -q -U \"tensorflow-text==2.8.*\"\n",
        "!pip install -q -U tf-models-official==2.7.0\n",
        "!pip install -U tfds-nightly"
      ]
    },
    {
      "cell_type": "code",
      "source": [
        "import os\n",
        "import tensorflow as tf\n",
        "import tensorflow_hub as hub\n",
        "import tensorflow_datasets as tfds\n",
        "import tensorflow_text as text  \n",
        "import tensorflow_addons as tfa\n",
        "from official.nlp import optimization\n",
        "import numpy as np\n",
        "from sklearn.model_selection import train_test_split\n",
        "import pandas as pd\n",
        "import nltk\n",
        "from nltk.corpus import stopwords\n",
        "nltk.download('stopwords')\n",
        "import io\n",
        "from google.colab import files\n",
        "import itertools\n",
        "import random\n",
        "tf.get_logger().setLevel('ERROR')"
      ],
      "metadata": {
        "colab": {
          "base_uri": "https://localhost:8080/"
        },
        "id": "LreFhBOEPeUE",
        "outputId": "9da3f34a-86ad-4739-89e9-73ce18714b18"
      },
      "execution_count": 2,
      "outputs": [
        {
          "output_type": "stream",
          "name": "stderr",
          "text": [
            "[nltk_data] Downloading package stopwords to /root/nltk_data...\n",
            "[nltk_data]   Package stopwords is already up-to-date!\n"
          ]
        }
      ]
    },
    {
      "cell_type": "markdown",
      "source": [
        "## Loading BERT from TensorFlow Hub\n",
        "\n",
        "There are different versions of Bert in Tensorflow Hub. This example is for bert_en_uncased_L-12_H-768_A-12, It uses L=12 hidden layers (i.e., Transformer blocks), a hidden size of H=768, and A=12 attention heads.\n",
        "\n",
        "For more BERT versions: https://tfhub.dev/google/collections/bert/1"
      ],
      "metadata": {
        "id": "rAD3p47y_km0"
      }
    },
    {
      "cell_type": "code",
      "source": [
        "bert_encoder = hub.KerasLayer('https://tfhub.dev/tensorflow/bert_en_uncased_L-12_H-768_A-12/4', trainable=True)\n",
        "bert_preprocess =  hub.KerasLayer('https://tfhub.dev/tensorflow/bert_en_uncased_preprocess/3')\n",
        "bert_version = 'bert_en_uncased_L-12_H-768_A-12 model'"
      ],
      "metadata": {
        "id": "O2XxO-DcPgSL"
      },
      "execution_count": 3,
      "outputs": []
    },
    {
      "cell_type": "markdown",
      "source": [
        "## Define your model\n",
        "\n",
        "You are now ready to define your model for sentence classification by feeding the preprocessed inputs through the BERT encoder and putting a linear classifier on top, and using dropout for regularization."
      ],
      "metadata": {
        "id": "q1QIj-zo_y8s"
      }
    },
    {
      "cell_type": "code",
      "source": [
        "def define_model(num_classes,dropout_value=0.3,activation_function_for_output_layer='softmax'):\n",
        "    text_input=tf.keras.layers.Input(shape=(),dtype=tf.string,name=\"input_layer\")\n",
        "    preprocessed_text=bert_preprocess(text_input)\n",
        "    encoder_output=bert_encoder(preprocessed_text)\n",
        "    l=tf.keras.layers.Dropout(dropout_value,name='dropout')(encoder_output['pooled_output'])\n",
        "    l=tf.keras.layers.Dense(num_classes,activation=activation_function_for_output_layer,name='output')(l)\n",
        "    model=tf.keras.Model(inputs=[text_input],outputs=[l])\n",
        "    return model"
      ],
      "metadata": {
        "id": "-Rf2ZbD9PiKy"
      },
      "execution_count": 4,
      "outputs": []
    },
    {
      "cell_type": "markdown",
      "source": [
        "## Build dataset\n",
        "\n",
        "We will create a dataset from 3 text files.\n",
        "Sentences from each text file will be tagged with a number:\n",
        "*   0:for sentences from the first file.\n",
        "*   1:for sentences from the second file.\n",
        "*   2:for sentences from the third file.\n",
        "\n",
        "We will then save the dataset in a csv file."
      ],
      "metadata": {
        "id": "9F6w0hZ3ALdF"
      }
    },
    {
      "cell_type": "code",
      "source": [
        "first_file = files.upload()\n",
        "first_file_name = list(first_file.keys())[0]\n",
        "print(f'Sentences from {first_file_name} will be tagged as 0')"
      ],
      "metadata": {
        "colab": {
          "resources": {
            "http://localhost:8080/nbextensions/google.colab/files.js": {
              "data": "Ly8gQ29weXJpZ2h0IDIwMTcgR29vZ2xlIExMQwovLwovLyBMaWNlbnNlZCB1bmRlciB0aGUgQXBhY2hlIExpY2Vuc2UsIFZlcnNpb24gMi4wICh0aGUgIkxpY2Vuc2UiKTsKLy8geW91IG1heSBub3QgdXNlIHRoaXMgZmlsZSBleGNlcHQgaW4gY29tcGxpYW5jZSB3aXRoIHRoZSBMaWNlbnNlLgovLyBZb3UgbWF5IG9idGFpbiBhIGNvcHkgb2YgdGhlIExpY2Vuc2UgYXQKLy8KLy8gICAgICBodHRwOi8vd3d3LmFwYWNoZS5vcmcvbGljZW5zZXMvTElDRU5TRS0yLjAKLy8KLy8gVW5sZXNzIHJlcXVpcmVkIGJ5IGFwcGxpY2FibGUgbGF3IG9yIGFncmVlZCB0byBpbiB3cml0aW5nLCBzb2Z0d2FyZQovLyBkaXN0cmlidXRlZCB1bmRlciB0aGUgTGljZW5zZSBpcyBkaXN0cmlidXRlZCBvbiBhbiAiQVMgSVMiIEJBU0lTLAovLyBXSVRIT1VUIFdBUlJBTlRJRVMgT1IgQ09ORElUSU9OUyBPRiBBTlkgS0lORCwgZWl0aGVyIGV4cHJlc3Mgb3IgaW1wbGllZC4KLy8gU2VlIHRoZSBMaWNlbnNlIGZvciB0aGUgc3BlY2lmaWMgbGFuZ3VhZ2UgZ292ZXJuaW5nIHBlcm1pc3Npb25zIGFuZAovLyBsaW1pdGF0aW9ucyB1bmRlciB0aGUgTGljZW5zZS4KCi8qKgogKiBAZmlsZW92ZXJ2aWV3IEhlbHBlcnMgZm9yIGdvb2dsZS5jb2xhYiBQeXRob24gbW9kdWxlLgogKi8KKGZ1bmN0aW9uKHNjb3BlKSB7CmZ1bmN0aW9uIHNwYW4odGV4dCwgc3R5bGVBdHRyaWJ1dGVzID0ge30pIHsKICBjb25zdCBlbGVtZW50ID0gZG9jdW1lbnQuY3JlYXRlRWxlbWVudCgnc3BhbicpOwogIGVsZW1lbnQudGV4dENvbnRlbnQgPSB0ZXh0OwogIGZvciAoY29uc3Qga2V5IG9mIE9iamVjdC5rZXlzKHN0eWxlQXR0cmlidXRlcykpIHsKICAgIGVsZW1lbnQuc3R5bGVba2V5XSA9IHN0eWxlQXR0cmlidXRlc1trZXldOwogIH0KICByZXR1cm4gZWxlbWVudDsKfQoKLy8gTWF4IG51bWJlciBvZiBieXRlcyB3aGljaCB3aWxsIGJlIHVwbG9hZGVkIGF0IGEgdGltZS4KY29uc3QgTUFYX1BBWUxPQURfU0laRSA9IDEwMCAqIDEwMjQ7CgpmdW5jdGlvbiBfdXBsb2FkRmlsZXMoaW5wdXRJZCwgb3V0cHV0SWQpIHsKICBjb25zdCBzdGVwcyA9IHVwbG9hZEZpbGVzU3RlcChpbnB1dElkLCBvdXRwdXRJZCk7CiAgY29uc3Qgb3V0cHV0RWxlbWVudCA9IGRvY3VtZW50LmdldEVsZW1lbnRCeUlkKG91dHB1dElkKTsKICAvLyBDYWNoZSBzdGVwcyBvbiB0aGUgb3V0cHV0RWxlbWVudCB0byBtYWtlIGl0IGF2YWlsYWJsZSBmb3IgdGhlIG5leHQgY2FsbAogIC8vIHRvIHVwbG9hZEZpbGVzQ29udGludWUgZnJvbSBQeXRob24uCiAgb3V0cHV0RWxlbWVudC5zdGVwcyA9IHN0ZXBzOwoKICByZXR1cm4gX3VwbG9hZEZpbGVzQ29udGludWUob3V0cHV0SWQpOwp9CgovLyBUaGlzIGlzIHJvdWdobHkgYW4gYXN5bmMgZ2VuZXJhdG9yIChub3Qgc3VwcG9ydGVkIGluIHRoZSBicm93c2VyIHlldCksCi8vIHdoZXJlIHRoZXJlIGFyZSBtdWx0aXBsZSBhc3luY2hyb25vdXMgc3RlcHMgYW5kIHRoZSBQeXRob24gc2lkZSBpcyBnb2luZwovLyB0byBwb2xsIGZvciBjb21wbGV0aW9uIG9mIGVhY2ggc3RlcC4KLy8gVGhpcyB1c2VzIGEgUHJvbWlzZSB0byBibG9jayB0aGUgcHl0aG9uIHNpZGUgb24gY29tcGxldGlvbiBvZiBlYWNoIHN0ZXAsCi8vIHRoZW4gcGFzc2VzIHRoZSByZXN1bHQgb2YgdGhlIHByZXZpb3VzIHN0ZXAgYXMgdGhlIGlucHV0IHRvIHRoZSBuZXh0IHN0ZXAuCmZ1bmN0aW9uIF91cGxvYWRGaWxlc0NvbnRpbnVlKG91dHB1dElkKSB7CiAgY29uc3Qgb3V0cHV0RWxlbWVudCA9IGRvY3VtZW50LmdldEVsZW1lbnRCeUlkKG91dHB1dElkKTsKICBjb25zdCBzdGVwcyA9IG91dHB1dEVsZW1lbnQuc3RlcHM7CgogIGNvbnN0IG5leHQgPSBzdGVwcy5uZXh0KG91dHB1dEVsZW1lbnQubGFzdFByb21pc2VWYWx1ZSk7CiAgcmV0dXJuIFByb21pc2UucmVzb2x2ZShuZXh0LnZhbHVlLnByb21pc2UpLnRoZW4oKHZhbHVlKSA9PiB7CiAgICAvLyBDYWNoZSB0aGUgbGFzdCBwcm9taXNlIHZhbHVlIHRvIG1ha2UgaXQgYXZhaWxhYmxlIHRvIHRoZSBuZXh0CiAgICAvLyBzdGVwIG9mIHRoZSBnZW5lcmF0b3IuCiAgICBvdXRwdXRFbGVtZW50Lmxhc3RQcm9taXNlVmFsdWUgPSB2YWx1ZTsKICAgIHJldHVybiBuZXh0LnZhbHVlLnJlc3BvbnNlOwogIH0pOwp9CgovKioKICogR2VuZXJhdG9yIGZ1bmN0aW9uIHdoaWNoIGlzIGNhbGxlZCBiZXR3ZWVuIGVhY2ggYXN5bmMgc3RlcCBvZiB0aGUgdXBsb2FkCiAqIHByb2Nlc3MuCiAqIEBwYXJhbSB7c3RyaW5nfSBpbnB1dElkIEVsZW1lbnQgSUQgb2YgdGhlIGlucHV0IGZpbGUgcGlja2VyIGVsZW1lbnQuCiAqIEBwYXJhbSB7c3RyaW5nfSBvdXRwdXRJZCBFbGVtZW50IElEIG9mIHRoZSBvdXRwdXQgZGlzcGxheS4KICogQHJldHVybiB7IUl0ZXJhYmxlPCFPYmplY3Q+fSBJdGVyYWJsZSBvZiBuZXh0IHN0ZXBzLgogKi8KZnVuY3Rpb24qIHVwbG9hZEZpbGVzU3RlcChpbnB1dElkLCBvdXRwdXRJZCkgewogIGNvbnN0IGlucHV0RWxlbWVudCA9IGRvY3VtZW50LmdldEVsZW1lbnRCeUlkKGlucHV0SWQpOwogIGlucHV0RWxlbWVudC5kaXNhYmxlZCA9IGZhbHNlOwoKICBjb25zdCBvdXRwdXRFbGVtZW50ID0gZG9jdW1lbnQuZ2V0RWxlbWVudEJ5SWQob3V0cHV0SWQpOwogIG91dHB1dEVsZW1lbnQuaW5uZXJIVE1MID0gJyc7CgogIGNvbnN0IHBpY2tlZFByb21pc2UgPSBuZXcgUHJvbWlzZSgocmVzb2x2ZSkgPT4gewogICAgaW5wdXRFbGVtZW50LmFkZEV2ZW50TGlzdGVuZXIoJ2NoYW5nZScsIChlKSA9PiB7CiAgICAgIHJlc29sdmUoZS50YXJnZXQuZmlsZXMpOwogICAgfSk7CiAgfSk7CgogIGNvbnN0IGNhbmNlbCA9IGRvY3VtZW50LmNyZWF0ZUVsZW1lbnQoJ2J1dHRvbicpOwogIGlucHV0RWxlbWVudC5wYXJlbnRFbGVtZW50LmFwcGVuZENoaWxkKGNhbmNlbCk7CiAgY2FuY2VsLnRleHRDb250ZW50ID0gJ0NhbmNlbCB1cGxvYWQnOwogIGNvbnN0IGNhbmNlbFByb21pc2UgPSBuZXcgUHJvbWlzZSgocmVzb2x2ZSkgPT4gewogICAgY2FuY2VsLm9uY2xpY2sgPSAoKSA9PiB7CiAgICAgIHJlc29sdmUobnVsbCk7CiAgICB9OwogIH0pOwoKICAvLyBXYWl0IGZvciB0aGUgdXNlciB0byBwaWNrIHRoZSBmaWxlcy4KICBjb25zdCBmaWxlcyA9IHlpZWxkIHsKICAgIHByb21pc2U6IFByb21pc2UucmFjZShbcGlja2VkUHJvbWlzZSwgY2FuY2VsUHJvbWlzZV0pLAogICAgcmVzcG9uc2U6IHsKICAgICAgYWN0aW9uOiAnc3RhcnRpbmcnLAogICAgfQogIH07CgogIGNhbmNlbC5yZW1vdmUoKTsKCiAgLy8gRGlzYWJsZSB0aGUgaW5wdXQgZWxlbWVudCBzaW5jZSBmdXJ0aGVyIHBpY2tzIGFyZSBub3QgYWxsb3dlZC4KICBpbnB1dEVsZW1lbnQuZGlzYWJsZWQgPSB0cnVlOwoKICBpZiAoIWZpbGVzKSB7CiAgICByZXR1cm4gewogICAgICByZXNwb25zZTogewogICAgICAgIGFjdGlvbjogJ2NvbXBsZXRlJywKICAgICAgfQogICAgfTsKICB9CgogIGZvciAoY29uc3QgZmlsZSBvZiBmaWxlcykgewogICAgY29uc3QgbGkgPSBkb2N1bWVudC5jcmVhdGVFbGVtZW50KCdsaScpOwogICAgbGkuYXBwZW5kKHNwYW4oZmlsZS5uYW1lLCB7Zm9udFdlaWdodDogJ2JvbGQnfSkpOwogICAgbGkuYXBwZW5kKHNwYW4oCiAgICAgICAgYCgke2ZpbGUudHlwZSB8fCAnbi9hJ30pIC0gJHtmaWxlLnNpemV9IGJ5dGVzLCBgICsKICAgICAgICBgbGFzdCBtb2RpZmllZDogJHsKICAgICAgICAgICAgZmlsZS5sYXN0TW9kaWZpZWREYXRlID8gZmlsZS5sYXN0TW9kaWZpZWREYXRlLnRvTG9jYWxlRGF0ZVN0cmluZygpIDoKICAgICAgICAgICAgICAgICAgICAgICAgICAgICAgICAgICAgJ24vYSd9IC0gYCkpOwogICAgY29uc3QgcGVyY2VudCA9IHNwYW4oJzAlIGRvbmUnKTsKICAgIGxpLmFwcGVuZENoaWxkKHBlcmNlbnQpOwoKICAgIG91dHB1dEVsZW1lbnQuYXBwZW5kQ2hpbGQobGkpOwoKICAgIGNvbnN0IGZpbGVEYXRhUHJvbWlzZSA9IG5ldyBQcm9taXNlKChyZXNvbHZlKSA9PiB7CiAgICAgIGNvbnN0IHJlYWRlciA9IG5ldyBGaWxlUmVhZGVyKCk7CiAgICAgIHJlYWRlci5vbmxvYWQgPSAoZSkgPT4gewogICAgICAgIHJlc29sdmUoZS50YXJnZXQucmVzdWx0KTsKICAgICAgfTsKICAgICAgcmVhZGVyLnJlYWRBc0FycmF5QnVmZmVyKGZpbGUpOwogICAgfSk7CiAgICAvLyBXYWl0IGZvciB0aGUgZGF0YSB0byBiZSByZWFkeS4KICAgIGxldCBmaWxlRGF0YSA9IHlpZWxkIHsKICAgICAgcHJvbWlzZTogZmlsZURhdGFQcm9taXNlLAogICAgICByZXNwb25zZTogewogICAgICAgIGFjdGlvbjogJ2NvbnRpbnVlJywKICAgICAgfQogICAgfTsKCiAgICAvLyBVc2UgYSBjaHVua2VkIHNlbmRpbmcgdG8gYXZvaWQgbWVzc2FnZSBzaXplIGxpbWl0cy4gU2VlIGIvNjIxMTU2NjAuCiAgICBsZXQgcG9zaXRpb24gPSAwOwogICAgZG8gewogICAgICBjb25zdCBsZW5ndGggPSBNYXRoLm1pbihmaWxlRGF0YS5ieXRlTGVuZ3RoIC0gcG9zaXRpb24sIE1BWF9QQVlMT0FEX1NJWkUpOwogICAgICBjb25zdCBjaHVuayA9IG5ldyBVaW50OEFycmF5KGZpbGVEYXRhLCBwb3NpdGlvbiwgbGVuZ3RoKTsKICAgICAgcG9zaXRpb24gKz0gbGVuZ3RoOwoKICAgICAgY29uc3QgYmFzZTY0ID0gYnRvYShTdHJpbmcuZnJvbUNoYXJDb2RlLmFwcGx5KG51bGwsIGNodW5rKSk7CiAgICAgIHlpZWxkIHsKICAgICAgICByZXNwb25zZTogewogICAgICAgICAgYWN0aW9uOiAnYXBwZW5kJywKICAgICAgICAgIGZpbGU6IGZpbGUubmFtZSwKICAgICAgICAgIGRhdGE6IGJhc2U2NCwKICAgICAgICB9LAogICAgICB9OwoKICAgICAgbGV0IHBlcmNlbnREb25lID0gZmlsZURhdGEuYnl0ZUxlbmd0aCA9PT0gMCA/CiAgICAgICAgICAxMDAgOgogICAgICAgICAgTWF0aC5yb3VuZCgocG9zaXRpb24gLyBmaWxlRGF0YS5ieXRlTGVuZ3RoKSAqIDEwMCk7CiAgICAgIHBlcmNlbnQudGV4dENvbnRlbnQgPSBgJHtwZXJjZW50RG9uZX0lIGRvbmVgOwoKICAgIH0gd2hpbGUgKHBvc2l0aW9uIDwgZmlsZURhdGEuYnl0ZUxlbmd0aCk7CiAgfQoKICAvLyBBbGwgZG9uZS4KICB5aWVsZCB7CiAgICByZXNwb25zZTogewogICAgICBhY3Rpb246ICdjb21wbGV0ZScsCiAgICB9CiAgfTsKfQoKc2NvcGUuZ29vZ2xlID0gc2NvcGUuZ29vZ2xlIHx8IHt9OwpzY29wZS5nb29nbGUuY29sYWIgPSBzY29wZS5nb29nbGUuY29sYWIgfHwge307CnNjb3BlLmdvb2dsZS5jb2xhYi5fZmlsZXMgPSB7CiAgX3VwbG9hZEZpbGVzLAogIF91cGxvYWRGaWxlc0NvbnRpbnVlLAp9Owp9KShzZWxmKTsK",
              "ok": true,
              "headers": [
                [
                  "content-type",
                  "application/javascript"
                ]
              ],
              "status": 200,
              "status_text": ""
            }
          },
          "base_uri": "https://localhost:8080/",
          "height": 90
        },
        "id": "I369n9uPSFNb",
        "outputId": "5bd495f9-4810-4e72-f090-5a446890d63d"
      },
      "execution_count": 5,
      "outputs": [
        {
          "output_type": "display_data",
          "data": {
            "text/plain": [
              "<IPython.core.display.HTML object>"
            ],
            "text/html": [
              "\n",
              "     <input type=\"file\" id=\"files-b9794378-9e78-4b34-ac84-001a2490b532\" name=\"files[]\" multiple disabled\n",
              "        style=\"border:none\" />\n",
              "     <output id=\"result-b9794378-9e78-4b34-ac84-001a2490b532\">\n",
              "      Upload widget is only available when the cell has been executed in the\n",
              "      current browser session. Please rerun this cell to enable.\n",
              "      </output>\n",
              "      <script src=\"/nbextensions/google.colab/files.js\"></script> "
            ]
          },
          "metadata": {}
        },
        {
          "output_type": "stream",
          "name": "stdout",
          "text": [
            "Saving Harry Potter and the Prisoner of Azkaban.txt to Harry Potter and the Prisoner of Azkaban (4).txt\n",
            "Sentences from Harry Potter and the Prisoner of Azkaban.txt will be tagged as 0\n"
          ]
        }
      ]
    },
    {
      "cell_type": "code",
      "source": [
        "second_file = files.upload()\n",
        "second_file_name = list(second_file.keys())[0]\n",
        "print(f'Sentences from {second_file_name} will be tagged as 1')"
      ],
      "metadata": {
        "id": "7HhH48MFBZO2",
        "colab": {
          "resources": {
            "http://localhost:8080/nbextensions/google.colab/files.js": {
              "data": "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",
              "ok": true,
              "headers": [
                [
                  "content-type",
                  "application/javascript"
                ]
              ],
              "status": 200,
              "status_text": ""
            }
          },
          "base_uri": "https://localhost:8080/",
          "height": 90
        },
        "outputId": "ce6cb7ed-ecdf-40c5-f481-ffdcc621c08a"
      },
      "execution_count": 6,
      "outputs": [
        {
          "output_type": "display_data",
          "data": {
            "text/plain": [
              "<IPython.core.display.HTML object>"
            ],
            "text/html": [
              "\n",
              "     <input type=\"file\" id=\"files-8e0cdf7b-25bd-494c-a86a-a58836ba416c\" name=\"files[]\" multiple disabled\n",
              "        style=\"border:none\" />\n",
              "     <output id=\"result-8e0cdf7b-25bd-494c-a86a-a58836ba416c\">\n",
              "      Upload widget is only available when the cell has been executed in the\n",
              "      current browser session. Please rerun this cell to enable.\n",
              "      </output>\n",
              "      <script src=\"/nbextensions/google.colab/files.js\"></script> "
            ]
          },
          "metadata": {}
        },
        {
          "output_type": "stream",
          "name": "stdout",
          "text": [
            "Saving Harry Potter and the Philosophers Stone.txt to Harry Potter and the Philosophers Stone (4).txt\n",
            "Sentences from Harry Potter and the Philosophers Stone.txt will be tagged as 1\n"
          ]
        }
      ]
    },
    {
      "cell_type": "code",
      "source": [
        "third_file = files.upload()\n",
        "third_file_name = list(third_file.keys())[0]\n",
        "print(f'Sentences from {third_file_name} will be tagged as 2')"
      ],
      "metadata": {
        "id": "uqZSu4cIBZC5",
        "colab": {
          "resources": {
            "http://localhost:8080/nbextensions/google.colab/files.js": {
              "data": "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",
              "ok": true,
              "headers": [
                [
                  "content-type",
                  "application/javascript"
                ]
              ],
              "status": 200,
              "status_text": ""
            }
          },
          "base_uri": "https://localhost:8080/",
          "height": 90
        },
        "outputId": "14f9eef2-6820-44ae-9af3-4a4cfff25822"
      },
      "execution_count": 7,
      "outputs": [
        {
          "output_type": "display_data",
          "data": {
            "text/plain": [
              "<IPython.core.display.HTML object>"
            ],
            "text/html": [
              "\n",
              "     <input type=\"file\" id=\"files-acfb2c85-22ad-4a45-bd2d-e0b6d0449765\" name=\"files[]\" multiple disabled\n",
              "        style=\"border:none\" />\n",
              "     <output id=\"result-acfb2c85-22ad-4a45-bd2d-e0b6d0449765\">\n",
              "      Upload widget is only available when the cell has been executed in the\n",
              "      current browser session. Please rerun this cell to enable.\n",
              "      </output>\n",
              "      <script src=\"/nbextensions/google.colab/files.js\"></script> "
            ]
          },
          "metadata": {}
        },
        {
          "output_type": "stream",
          "name": "stdout",
          "text": [
            "Saving Harry Potter and the Chamber of Secrets.txt to Harry Potter and the Chamber of Secrets (4).txt\n",
            "Sentences from Harry Potter and the Chamber of Secrets.txt will be tagged as 2\n"
          ]
        }
      ]
    },
    {
      "cell_type": "markdown",
      "source": [
        "preprocess data"
      ],
      "metadata": {
        "id": "zKg6nu-uCLQf"
      }
    },
    {
      "cell_type": "code",
      "source": [
        "def preprocess_file(file,file_name,label):\n",
        "  data = pd.read_fwf(io.BytesIO(file[file_name]),sep=\".\",header=None) # Read text\n",
        "  data=data[0]\n",
        "  data = data.str.lower() #lowercase string from the given string\n",
        "  # stop_words = set(stopwords.words(\"english\"))\n",
        "  # data = data.apply(lambda x: ' '.join([word for word in x.split() if word not in (stop_words)]))  # remove stopwords\n",
        "  data.replace(\"[^a-z .]\",'',regex=True, inplace = True) #remove all characters that are not letters,spaces and dots.\n",
        "  data.replace(' +',' ',regex=True, inplace = True) # remove extra white space\n",
        "  text = \"\"\n",
        "  for line in data:\n",
        "      text+=' '+ line\n",
        "  sentences=text.split('.')\n",
        "  sentences=[x for x in sentences if x]\n",
        "  sentences=[x.strip() for x in sentences]\n",
        "  sentences=[x for x in sentences if x!='' and x!=' ']\n",
        "  new_data = []\n",
        "  for sentence in sentences:\n",
        "      if len(sentence.split())>1: # remove insignificant sentences\n",
        "        new_data.append([sentence,label])\n",
        "  return new_data"
      ],
      "metadata": {
        "id": "NQMMmrMxSJOU"
      },
      "execution_count": 8,
      "outputs": []
    },
    {
      "cell_type": "code",
      "source": [
        "dataset_name = 'sentences'\n",
        "first_data = preprocess_file(first_file,first_file_name,0)\n",
        "second_data = preprocess_file(second_file,second_file_name,1)\n",
        "third_data = preprocess_file(third_file,third_file_name,2)\n",
        "allData = [x for x in itertools.chain(first_data, second_data, third_data)]\n",
        "data_frame = pd.DataFrame(allData, columns=['sentence', 'label'])\n",
        "data_frame.to_csv(dataset_name+'.csv')"
      ],
      "metadata": {
        "id": "WymkfFrySMFx"
      },
      "execution_count": 9,
      "outputs": []
    },
    {
      "cell_type": "code",
      "source": [
        "num_classes = 3\n",
        "num_examples = data_frame.shape[0]\n",
        "sentence_features = ['sentence']\n",
        "print(f'This dataset has {num_examples} examples')\n",
        "print(f'Number of classes: {num_classes}\\n')\n",
        "print('Samples from the dataset:')\n",
        "data_frame.sample(n = 10)"
      ],
      "metadata": {
        "colab": {
          "base_uri": "https://localhost:8080/",
          "height": 432
        },
        "id": "zLiaPYnJSOZF",
        "outputId": "5aeb8d3c-9e6f-4a30-fbfe-76f598a383d4"
      },
      "execution_count": 10,
      "outputs": [
        {
          "output_type": "stream",
          "name": "stdout",
          "text": [
            "This dataset has 19759 examples\n",
            "Number of classes: 3\n",
            "\n",
            "Samples from the dataset:\n"
          ]
        },
        {
          "output_type": "execute_result",
          "data": {
            "text/plain": [
              "                                                sentence  label\n",
              "466    her great red face started to expand her tiny ...      0\n",
              "12081  she had started drawing up study schedules and...      1\n",
              "8488   his page harry potter and the philosophers sto...      1\n",
              "10712                                       wood told us      1\n",
              "4274   seemed to think i cared more about winning the...      0\n",
              "12512         we might have ter put it out of its misery      1\n",
              "3482   doors and strings of enchanted candles hanging...      0\n",
              "900    mum and dad dropped me off this morning with a...      0\n",
              "19271  but after all it was merely a lucky chance tha...      2\n",
              "11717  there was an inscription carved around the top...      1"
            ],
            "text/html": [
              "\n",
              "  <div id=\"df-bcf090b7-b6ce-4ce9-bb30-9e23199391da\">\n",
              "    <div class=\"colab-df-container\">\n",
              "      <div>\n",
              "<style scoped>\n",
              "    .dataframe tbody tr th:only-of-type {\n",
              "        vertical-align: middle;\n",
              "    }\n",
              "\n",
              "    .dataframe tbody tr th {\n",
              "        vertical-align: top;\n",
              "    }\n",
              "\n",
              "    .dataframe thead th {\n",
              "        text-align: right;\n",
              "    }\n",
              "</style>\n",
              "<table border=\"1\" class=\"dataframe\">\n",
              "  <thead>\n",
              "    <tr style=\"text-align: right;\">\n",
              "      <th></th>\n",
              "      <th>sentence</th>\n",
              "      <th>label</th>\n",
              "    </tr>\n",
              "  </thead>\n",
              "  <tbody>\n",
              "    <tr>\n",
              "      <th>466</th>\n",
              "      <td>her great red face started to expand her tiny ...</td>\n",
              "      <td>0</td>\n",
              "    </tr>\n",
              "    <tr>\n",
              "      <th>12081</th>\n",
              "      <td>she had started drawing up study schedules and...</td>\n",
              "      <td>1</td>\n",
              "    </tr>\n",
              "    <tr>\n",
              "      <th>8488</th>\n",
              "      <td>his page harry potter and the philosophers sto...</td>\n",
              "      <td>1</td>\n",
              "    </tr>\n",
              "    <tr>\n",
              "      <th>10712</th>\n",
              "      <td>wood told us</td>\n",
              "      <td>1</td>\n",
              "    </tr>\n",
              "    <tr>\n",
              "      <th>4274</th>\n",
              "      <td>seemed to think i cared more about winning the...</td>\n",
              "      <td>0</td>\n",
              "    </tr>\n",
              "    <tr>\n",
              "      <th>12512</th>\n",
              "      <td>we might have ter put it out of its misery</td>\n",
              "      <td>1</td>\n",
              "    </tr>\n",
              "    <tr>\n",
              "      <th>3482</th>\n",
              "      <td>doors and strings of enchanted candles hanging...</td>\n",
              "      <td>0</td>\n",
              "    </tr>\n",
              "    <tr>\n",
              "      <th>900</th>\n",
              "      <td>mum and dad dropped me off this morning with a...</td>\n",
              "      <td>0</td>\n",
              "    </tr>\n",
              "    <tr>\n",
              "      <th>19271</th>\n",
              "      <td>but after all it was merely a lucky chance tha...</td>\n",
              "      <td>2</td>\n",
              "    </tr>\n",
              "    <tr>\n",
              "      <th>11717</th>\n",
              "      <td>there was an inscription carved around the top...</td>\n",
              "      <td>1</td>\n",
              "    </tr>\n",
              "  </tbody>\n",
              "</table>\n",
              "</div>\n",
              "      <button class=\"colab-df-convert\" onclick=\"convertToInteractive('df-bcf090b7-b6ce-4ce9-bb30-9e23199391da')\"\n",
              "              title=\"Convert this dataframe to an interactive table.\"\n",
              "              style=\"display:none;\">\n",
              "        \n",
              "  <svg xmlns=\"http://www.w3.org/2000/svg\" height=\"24px\"viewBox=\"0 0 24 24\"\n",
              "       width=\"24px\">\n",
              "    <path d=\"M0 0h24v24H0V0z\" fill=\"none\"/>\n",
              "    <path d=\"M18.56 5.44l.94 2.06.94-2.06 2.06-.94-2.06-.94-.94-2.06-.94 2.06-2.06.94zm-11 1L8.5 8.5l.94-2.06 2.06-.94-2.06-.94L8.5 2.5l-.94 2.06-2.06.94zm10 10l.94 2.06.94-2.06 2.06-.94-2.06-.94-.94-2.06-.94 2.06-2.06.94z\"/><path d=\"M17.41 7.96l-1.37-1.37c-.4-.4-.92-.59-1.43-.59-.52 0-1.04.2-1.43.59L10.3 9.45l-7.72 7.72c-.78.78-.78 2.05 0 2.83L4 21.41c.39.39.9.59 1.41.59.51 0 1.02-.2 1.41-.59l7.78-7.78 2.81-2.81c.8-.78.8-2.07 0-2.86zM5.41 20L4 18.59l7.72-7.72 1.47 1.35L5.41 20z\"/>\n",
              "  </svg>\n",
              "      </button>\n",
              "      \n",
              "  <style>\n",
              "    .colab-df-container {\n",
              "      display:flex;\n",
              "      flex-wrap:wrap;\n",
              "      gap: 12px;\n",
              "    }\n",
              "\n",
              "    .colab-df-convert {\n",
              "      background-color: #E8F0FE;\n",
              "      border: none;\n",
              "      border-radius: 50%;\n",
              "      cursor: pointer;\n",
              "      display: none;\n",
              "      fill: #1967D2;\n",
              "      height: 32px;\n",
              "      padding: 0 0 0 0;\n",
              "      width: 32px;\n",
              "    }\n",
              "\n",
              "    .colab-df-convert:hover {\n",
              "      background-color: #E2EBFA;\n",
              "      box-shadow: 0px 1px 2px rgba(60, 64, 67, 0.3), 0px 1px 3px 1px rgba(60, 64, 67, 0.15);\n",
              "      fill: #174EA6;\n",
              "    }\n",
              "\n",
              "    [theme=dark] .colab-df-convert {\n",
              "      background-color: #3B4455;\n",
              "      fill: #D2E3FC;\n",
              "    }\n",
              "\n",
              "    [theme=dark] .colab-df-convert:hover {\n",
              "      background-color: #434B5C;\n",
              "      box-shadow: 0px 1px 3px 1px rgba(0, 0, 0, 0.15);\n",
              "      filter: drop-shadow(0px 1px 2px rgba(0, 0, 0, 0.3));\n",
              "      fill: #FFFFFF;\n",
              "    }\n",
              "  </style>\n",
              "\n",
              "      <script>\n",
              "        const buttonEl =\n",
              "          document.querySelector('#df-bcf090b7-b6ce-4ce9-bb30-9e23199391da button.colab-df-convert');\n",
              "        buttonEl.style.display =\n",
              "          google.colab.kernel.accessAllowed ? 'block' : 'none';\n",
              "\n",
              "        async function convertToInteractive(key) {\n",
              "          const element = document.querySelector('#df-bcf090b7-b6ce-4ce9-bb30-9e23199391da');\n",
              "          const dataTable =\n",
              "            await google.colab.kernel.invokeFunction('convertToInteractive',\n",
              "                                                     [key], {});\n",
              "          if (!dataTable) return;\n",
              "\n",
              "          const docLinkHtml = 'Like what you see? Visit the ' +\n",
              "            '<a target=\"_blank\" href=https://colab.research.google.com/notebooks/data_table.ipynb>data table notebook</a>'\n",
              "            + ' to learn more about interactive tables.';\n",
              "          element.innerHTML = '';\n",
              "          dataTable['output_type'] = 'display_data';\n",
              "          await google.colab.output.renderOutput(dataTable, element);\n",
              "          const docLink = document.createElement('div');\n",
              "          docLink.innerHTML = docLinkHtml;\n",
              "          element.appendChild(docLink);\n",
              "        }\n",
              "      </script>\n",
              "    </div>\n",
              "  </div>\n",
              "  "
            ]
          },
          "metadata": {},
          "execution_count": 10
        }
      ]
    },
    {
      "cell_type": "code",
      "source": [
        "sentences = data_frame['sentence'].values.tolist()\n",
        "classes = data_frame['label'].values.tolist()\n",
        "labels = []\n",
        "for c in classes:\n",
        "  label = [0] * 3\n",
        "  label[c] = 1\n",
        "  labels.append(label)\n",
        "\n",
        "x,x_val,y,y_val=train_test_split(sentences,labels,test_size=0.2, shuffle=True)\n",
        "x_train,x_test,y_train,y_test=train_test_split(x,y,test_size=0.2, shuffle=True)\n",
        "print(f'Example of a sentence and a label for it: {x_train[0]} : {y_train[0]}\\n')"
      ],
      "metadata": {
        "colab": {
          "base_uri": "https://localhost:8080/"
        },
        "id": "0Kuuros8Ekxb",
        "outputId": "957824f6-eecd-4d0b-d1fd-a0354d1f46b4"
      },
      "execution_count": 11,
      "outputs": [
        {
          "output_type": "stream",
          "name": "stdout",
          "text": [
            "Example of a sentence and a label for it: yes ill have a spot more brandy vernon : [1, 0, 0]\n",
            "\n"
          ]
        }
      ]
    },
    {
      "cell_type": "markdown",
      "source": [
        "The label is a vector of size 3, where the position of the value 1 in the vector represents from which text file the sentence is.\n",
        "For example, if '1' is in position 2 int the vector it means that this sentence from the third file."
      ],
      "metadata": {
        "id": "kZlVWHseFmlC"
      }
    },
    {
      "cell_type": "markdown",
      "source": [
        "## Fine-tuned Bert. \n",
        "Finally, you can fine-tune the model end-to-end on the dataset.\n"
      ],
      "metadata": {
        "id": "YD0YPugNELXN"
      }
    },
    {
      "cell_type": "markdown",
      "source": [
        "Firstly, we will define the parameters:\n",
        "*   epochs,batch_size,learning rate.\n",
        "*   loss_function.\n",
        "*   metrics.\n",
        "*   steps_per_epoch, num_train_steps,num_warmup_steps,validation_steps.\n",
        "*   optimizer: we will use AdamW. AdamW is a variant of the optimizer Adam that has an improved implementation of weight decay.\n",
        "Using weight decay is a form of regularization to lower the chance of overfitting."
      ],
      "metadata": {
        "id": "wf_Ehaw1GEvg"
      }
    },
    {
      "cell_type": "code",
      "source": [
        "epochs = 3\n",
        "batch_size = 32\n",
        "init_lr = 2e-5\n",
        "\n",
        "loss_function = tf.keras.losses.CategoricalCrossentropy()\n",
        "metrics = tf.keras.metrics.SparseCategoricalAccuracy('accuracy')\n",
        "train_data_size = len(x_train)\n",
        "validation_data_size = len(x_val)\n",
        "steps_per_epoch = train_data_size // batch_size\n",
        "num_train_steps = steps_per_epoch * epochs\n",
        "num_warmup_steps = num_train_steps // 10\n",
        "validation_steps = validation_data_size // batch_size\n",
        "\n",
        "input_optimizer = optimization.create_optimizer(\n",
        "    init_lr=init_lr,\n",
        "    num_train_steps=num_train_steps,\n",
        "    num_warmup_steps=num_warmup_steps,\n",
        "    optimizer_type='adamw')\n"
      ],
      "metadata": {
        "id": "ruZn-Vb3SWEG"
      },
      "execution_count": 12,
      "outputs": []
    },
    {
      "cell_type": "markdown",
      "source": [
        "Now you will define, compile and observe the model structure and its parameters."
      ],
      "metadata": {
        "id": "4Q3zGzc3HRXf"
      }
    },
    {
      "cell_type": "code",
      "source": [
        "classifier_model = define_model(num_classes)\n",
        "classifier_model.compile(optimizer = input_optimizer,loss=loss_function, metrics=['accuracy'])\n",
        "classifier_model.summary() \n",
        "tf.keras.utils.plot_model(classifier_model, show_shapes=True, show_dtype=True)"
      ],
      "metadata": {
        "colab": {
          "base_uri": "https://localhost:8080/",
          "height": 1000
        },
        "id": "V8ctPlLlHQrI",
        "outputId": "1a95394e-295d-46d5-baba-0aac85392a6b"
      },
      "execution_count": 13,
      "outputs": [
        {
          "output_type": "stream",
          "name": "stdout",
          "text": [
            "Model: \"model\"\n",
            "__________________________________________________________________________________________________\n",
            " Layer (type)                   Output Shape         Param #     Connected to                     \n",
            "==================================================================================================\n",
            " input_layer (InputLayer)       [(None,)]            0           []                               \n",
            "                                                                                                  \n",
            " keras_layer_1 (KerasLayer)     {'input_mask': (Non  0           ['input_layer[0][0]']            \n",
            "                                e, 128),                                                          \n",
            "                                 'input_type_ids':                                                \n",
            "                                (None, 128),                                                      \n",
            "                                 'input_word_ids':                                                \n",
            "                                (None, 128)}                                                      \n",
            "                                                                                                  \n",
            " keras_layer (KerasLayer)       {'pooled_output': (  109482241   ['keras_layer_1[0][0]',          \n",
            "                                None, 768),                       'keras_layer_1[0][1]',          \n",
            "                                 'sequence_output':               'keras_layer_1[0][2]']          \n",
            "                                 (None, 128, 768),                                                \n",
            "                                 'default': (None,                                                \n",
            "                                768),                                                             \n",
            "                                 'encoder_outputs':                                               \n",
            "                                 [(None, 128, 768),                                               \n",
            "                                 (None, 128, 768),                                                \n",
            "                                 (None, 128, 768),                                                \n",
            "                                 (None, 128, 768),                                                \n",
            "                                 (None, 128, 768),                                                \n",
            "                                 (None, 128, 768),                                                \n",
            "                                 (None, 128, 768),                                                \n",
            "                                 (None, 128, 768),                                                \n",
            "                                 (None, 128, 768),                                                \n",
            "                                 (None, 128, 768),                                                \n",
            "                                 (None, 128, 768),                                                \n",
            "                                 (None, 128, 768)]}                                               \n",
            "                                                                                                  \n",
            " dropout (Dropout)              (None, 768)          0           ['keras_layer[0][13]']           \n",
            "                                                                                                  \n",
            " output (Dense)                 (None, 3)            2307        ['dropout[0][0]']                \n",
            "                                                                                                  \n",
            "==================================================================================================\n",
            "Total params: 109,484,548\n",
            "Trainable params: 109,484,547\n",
            "Non-trainable params: 1\n",
            "__________________________________________________________________________________________________\n"
          ]
        },
        {
          "output_type": "execute_result",
          "data": {
            "text/plain": [
              "<IPython.core.display.Image object>"
            ],
            "image/png": "[encoded data removed]"
          },
          "metadata": {},
          "execution_count": 13
        }
      ]
    },
    {
      "cell_type": "markdown",
      "source": [
        "Fine tuning Bert"
      ],
      "metadata": {
        "id": "PLHttz1pHiE8"
      }
    },
    {
      "cell_type": "code",
      "source": [
        "print(f'Fine tuning {bert_version}')\n",
        "classifier_model.fit(\n",
        "    x=x_train,\n",
        "    y=y_train,\n",
        "    validation_data=(x_val,y_val),\n",
        "    steps_per_epoch=steps_per_epoch,\n",
        "    epochs=epochs,\n",
        "    validation_steps=validation_steps)"
      ],
      "metadata": {
        "colab": {
          "base_uri": "https://localhost:8080/"
        },
        "id": "TtDboHJ3wH96",
        "outputId": "16da6ac5-1216-4982-bd51-2f5259edacc1"
      },
      "execution_count": 14,
      "outputs": [
        {
          "output_type": "stream",
          "name": "stdout",
          "text": [
            "Fine tuning bert_en_uncased_L-12_H-768_A-12 model\n",
            "Epoch 1/3\n",
            "395/395 [==============================] - 424s 1s/step - loss: 1.0726 - accuracy: 0.4347 - val_loss: 0.9002 - val_accuracy: 0.5238\n",
            "Epoch 2/3\n",
            "395/395 [==============================] - 356s 902ms/step - loss: 0.8400 - accuracy: 0.5871\n",
            "Epoch 3/3\n",
            "395/395 [==============================] - 356s 902ms/step - loss: 0.7141 - accuracy: 0.6735\n"
          ]
        },
        {
          "output_type": "execute_result",
          "data": {
            "text/plain": [
              "<keras.callbacks.History at 0x7face7c97290>"
            ]
          },
          "metadata": {},
          "execution_count": 14
        }
      ]
    },
    {
      "cell_type": "markdown",
      "source": [
        "## Export for inference\n",
        "\n",
        "You will create a final model that has the preprocessing part and the fine-tuned BERT we've just created.\n",
        "\n",
        "At inference time, preprocessing needs to be part of the model (because there is no longer a separate input queue as for training data that does it). Preprocessing is not just computation; it has its own resources (the vocab table) that must be attached to the Keras Model that is saved for export.\n",
        "This final assembly is what will be saved."
      ],
      "metadata": {
        "id": "zgM9k5mGH6DW"
      }
    },
    {
      "cell_type": "code",
      "source": [
        "main_save_path = './models'\n",
        "saved_model_name = f'{dataset_name}_{bert_version}'\n",
        "saved_model_path = os.path.join(main_save_path, saved_model_name)\n",
        "print('Saving', saved_model_path)\n",
        "# Save everything on the Colab host\n",
        "save_options = tf.saved_model.SaveOptions(experimental_io_device='/job:localhost')\n",
        "classifier_model.save(saved_model_path, include_optimizer=False,options=save_options)"
      ],
      "metadata": {
        "colab": {
          "base_uri": "https://localhost:8080/"
        },
        "id": "bwK_exGYexvX",
        "outputId": "a9b72943-7032-4a83-af91-78996898dc5c"
      },
      "execution_count": 15,
      "outputs": [
        {
          "output_type": "stream",
          "name": "stdout",
          "text": [
            "Saving ./models/sentences_bert_en_uncased_L-12_H-768_A-12 model\n"
          ]
        },
        {
          "output_type": "stream",
          "name": "stderr",
          "text": [
            "WARNING:absl:Found untraced functions such as restored_function_body, restored_function_body, restored_function_body, restored_function_body, restored_function_body while saving (showing 5 of 366). These functions will not be directly callable after loading.\n"
          ]
        }
      ]
    },
    {
      "cell_type": "markdown",
      "source": [
        "## Test the model\n",
        "\n",
        "The final step is testing the results of your exported model.\n",
        "\n",
        "Just to make some comparison, let's reload the model and test it using some inputs from the test split from the dataset."
      ],
      "metadata": {
        "id": "P4Q8swX2H_EH"
      }
    },
    {
      "cell_type": "code",
      "source": [
        "with tf.device('/job:localhost'):\n",
        "  reloaded_model = tf.saved_model.load(saved_model_path)"
      ],
      "metadata": {
        "id": "sLnyIP7hgE0z"
      },
      "execution_count": 16,
      "outputs": []
    },
    {
      "cell_type": "code",
      "source": [
        "def print_bert_results(test, bert_result,files_dict):\n",
        "  bert_result_class = tf.argmax(bert_result, axis=1)[0]\n",
        "  print('sentence:', test)\n",
        "  result_class = tf.get_static_value(bert_result_class)\n",
        "  print(f'This sentence is from {files_dict[result_class]}\\n')\n",
        "\n"
      ],
      "metadata": {
        "id": "fLIFKHnXgyX1"
      },
      "execution_count": 17,
      "outputs": []
    },
    {
      "cell_type": "code",
      "source": [
        "files_dict = {\n",
        "    0:first_file_name,\n",
        "    1:second_file_name,\n",
        "    2:third_file_name\n",
        "}\n",
        "with tf.device('/job:localhost'):\n",
        "  new_list = random.sample(x_test, 5)\n",
        "  for test_row in new_list:\n",
        "    result = reloaded_model([test_row])\n",
        "    print_bert_results(test_row, result,files_dict)"
      ],
      "metadata": {
        "colab": {
          "base_uri": "https://localhost:8080/"
        },
        "id": "ipj_qfsLhQL0",
        "outputId": "db80b317-8fbf-4f46-9547-5739b9f82613"
      },
      "execution_count": 18,
      "outputs": [
        {
          "output_type": "stream",
          "name": "stdout",
          "text": [
            "sentence: pulling himself up harry stared out of the dark window and saw that they were now bowling along a completely different street\n",
            "This sentence is from Harry Potter and the Chamber of Secrets.txt\n",
            "\n",
            "sentence: i page harry potter and the philosophers stone j\n",
            "This sentence is from Harry Potter and the Philosophers Stone.txt\n",
            "\n",
            "sentence: harry had taken one step toward it when a slithering sound made him freeze where he stood\n",
            "This sentence is from Harry Potter and the Philosophers Stone.txt\n",
            "\n",
            "sentence: he slipped into a seat between ron and hermione at the gryffindor table and tried to ignore the fact that people were standing up to look at him\n",
            "This sentence is from Harry Potter and the Philosophers Stone.txt\n",
            "\n",
            "sentence: my dad too said harry astounded\n",
            "This sentence is from Harry Potter and the Prisoner of Azkaban.txt\n",
            "\n"
          ]
        }
      ]
    }
  ]
}